{
 "cells": [
  {
   "cell_type": "markdown",
   "id": "091f2148",
   "metadata": {},
   "source": [
<<<<<<< HEAD
    "This is my first IJulia notebook!"
=======
    "This is my first Jupyter notebook with Julia!"
>>>>>>> bham/main
   ]
  },
  {
   "cell_type": "code",
   "execution_count": 1,
   "id": "2e3a7958",
   "metadata": {},
   "outputs": [
    {
     "data": {
      "text/plain": [
       "1"
      ]
     },
     "execution_count": 1,
     "metadata": {},
     "output_type": "execute_result"
    }
   ],
   "source": [
    "a = 1"
   ]
  },
  {
   "cell_type": "code",
   "execution_count": 2,
   "id": "1fe1e54e",
   "metadata": {},
   "outputs": [
    {
     "data": {
      "text/plain": [
       "2"
      ]
     },
     "execution_count": 2,
     "metadata": {},
     "output_type": "execute_result"
    }
   ],
   "source": [
    "b = 2"
   ]
  },
  {
   "cell_type": "code",
   "execution_count": 3,
   "id": "425d2294",
   "metadata": {},
   "outputs": [
    {
     "data": {
      "text/plain": [
       "3"
      ]
     },
     "execution_count": 3,
     "metadata": {},
     "output_type": "execute_result"
    }
   ],
   "source": [
    "c = a + b"
   ]
  },
  {
   "cell_type": "code",
   "execution_count": 4,
   "id": "c5226991",
   "metadata": {},
   "outputs": [
    {
     "name": "stdout",
     "output_type": "stream",
     "text": [
      "The sum of a and b is equal to: 3\n"
     ]
    }
   ],
   "source": [
    "println(\"The sum of a and b is equal to: \", c)"
   ]
  }
 ],
 "metadata": {
  "kernelspec": {
<<<<<<< HEAD
   "display_name": "Julia 1.11.3",
=======
   "display_name": "Julia 1.11.6",
>>>>>>> bham/main
   "language": "julia",
   "name": "julia-1.11"
  },
  "language_info": {
   "file_extension": ".jl",
   "mimetype": "application/julia",
   "name": "julia",
<<<<<<< HEAD
   "version": "1.11.3"
=======
   "version": "1.11.6"
>>>>>>> bham/main
  }
 },
 "nbformat": 4,
 "nbformat_minor": 5
}
